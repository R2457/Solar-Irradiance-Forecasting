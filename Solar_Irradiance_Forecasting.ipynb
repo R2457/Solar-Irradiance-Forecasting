{
  "cells": [
    {
      "cell_type": "code",
      "execution_count": null,
      "metadata": {
        "id": "i0qElzOOhxX_"
      },
      "outputs": [],
      "source": [
        "import time\n",
        "import pandas as pd\n",
        "import numpy as np\n",
        "from keras.models import Sequential\n",
        "from keras.layers import Dense\n",
        "from keras.layers import LSTM\n",
        "from matplotlib import pyplot as plt\n",
        "from math import sqrt"
      ]
    },
    {
      "cell_type": "code",
      "execution_count": null,
      "metadata": {
        "id": "gK6x6KkOh7nh"
      },
      "outputs": [],
      "source": [
        "def get_data():\n",
        "    data = pd.read_csv('https://docs.google.com/spreadsheets/d/e/2PACX-1vSUwcKqqGzFnf39RPKnss3YAQXYy3q0VRuiTxcyGPf4NnA7pGVjCptYKHiuB0WJSrKEOZa1OXzYV8CV/pub?gid=209340897&single=true&output=csv')\n",
        "    df = pd.DataFrame(data)\n",
        "    df.drop(df.columns[[0, 7, 8, 10, 11, 12, 13, 15]], axis=1, inplace=True)\n",
        "    return df"
      ]
    },
    {
      "cell_type": "code",
      "execution_count": null,
      "metadata": {
        "id": "CA2gyep6iRFd"
      },
      "outputs": [],
      "source": [
        "# cleaning and spliting part\n",
        "def load_data(data, seq_len):\n",
        "    var_count = len(data.columns)\n",
        "    data = data.values\n",
        "    sequence_length = seq_len+1\n",
        "    result = []\n",
        "    for i in range(len(data)-sequence_length):\n",
        "        result.append(data[i:i+sequence_length])\n",
        "    result = np.array(result)\n",
        "    row = round(0.8*result.shape[0])\n",
        "    train = result[:int(row), :]\n",
        "    x_train = train[:, :-1]\n",
        "    y_train = train[:, -1][:, -1]\n",
        "    x_test = result[int(row):, :-1]\n",
        "    y_test = result[int(row):, -1][:, -1]\n",
        "    x_train = np.reshape(\n",
        "        x_train, (x_train.shape[0], x_train.shape[1], var_count))\n",
        "    x_test = np.reshape(\n",
        "        x_test, (x_test.shape[0], x_test.shape[1], var_count))\n",
        "    print(x_train[:6])\n",
        "    print(y_train[:6])\n",
        "    return [x_train, y_train, x_test, y_test]"
      ]
    },
    {
      "cell_type": "code",
      "execution_count": null,
      "metadata": {
        "id": "y-fwTf7li3Kb"
      },
      "outputs": [],
      "source": [
        "# building of untrained data\n",
        "def build_model(layers):\n",
        "    model = Sequential()\n",
        "    model.add(LSTM(50, input_shape=(\n",
        "        layers[1], layers[0]), return_sequences=False))\n",
        "    model.add(Dense(1, activation=\"relu\", kernel_initializer=\"uniform\"))\n",
        "\n",
        "    start = time.time()\n",
        "    model.compile(loss=\"mse\", optimizer=\"rmsprop\", metrics=['accuracy'])\n",
        "    print(\"Compilation Time : \", time.time() - start)\n",
        "    return model"
      ]
    },
    {
      "cell_type": "code",
      "execution_count": null,
      "metadata": {
        "colab": {
          "base_uri": "https://localhost:8080/"
        },
        "id": "_p7YjAb-i8-x",
        "outputId": "92048b06-6dbf-4b2b-bd9a-5c6db498a7e0"
      },
      "outputs": [
        {
          "output_type": "stream",
          "name": "stdout",
          "text": [
            "       DAY_OF_MONTH  MONTH  YEAR  HOURS  MINUTES  AIR_TEMPERATURE  \\\n",
            "0                26      4    13     18        0            36.86   \n",
            "1                26      4    13     17       45            37.17   \n",
            "2                26      4    13     17       30            37.42   \n",
            "3                26      4    13     17       15            36.59   \n",
            "4                26      4    13     17        0            37.24   \n",
            "...             ...    ...   ...    ...      ...              ...   \n",
            "50014            22     10    14      2       53            25.37   \n",
            "50015            22     10    14      2       53            25.37   \n",
            "50016            22     10    14      3        8            25.00   \n",
            "50017            22     10    14      3       23            25.03   \n",
            "50018            22     10    14      3       23            25.03   \n",
            "\n",
            "       RELATIVE_HUMIDITY  SOLAR_RADIATION  \n",
            "0                  22.48              110  \n",
            "1                  21.78              160  \n",
            "2                  22.06              123  \n",
            "3                  22.62              120  \n",
            "4                  22.54              160  \n",
            "...                  ...              ...  \n",
            "50014              43.86                0  \n",
            "50015              43.86                0  \n",
            "50016              44.52                0  \n",
            "50017              44.65                0  \n",
            "50018              44.65                0  \n",
            "\n",
            "[50019 rows x 8 columns]\n"
          ]
        }
      ],
      "source": [
        "df = get_data()\n",
        "print(df)"
      ]
    },
    {
      "cell_type": "code",
      "execution_count": null,
      "metadata": {
        "colab": {
          "base_uri": "https://localhost:8080/"
        },
        "id": "8gYhvv4SVlkA",
        "outputId": "e3fa9bc9-58b1-4122-8dd5-1b9c9fe9c22e"
      },
      "outputs": [
        {
          "output_type": "stream",
          "name": "stdout",
          "text": [
            "[[ 26.     4.    13.   ...  36.86  22.48 110.  ]\n",
            " [ 26.     4.    13.   ...  37.17  21.78 160.  ]\n",
            " [ 26.     4.    13.   ...  37.42  22.06 123.  ]\n",
            " ...\n",
            " [ 22.    10.    14.   ...  25.    44.52   0.  ]\n",
            " [ 22.    10.    14.   ...  25.03  44.65   0.  ]\n",
            " [ 22.    10.    14.   ...  25.03  44.65   0.  ]]\n"
          ]
        }
      ],
      "source": [
        "values = df.values\n",
        "print(values)"
      ]
    },
    {
      "cell_type": "code",
      "execution_count": null,
      "metadata": {
        "id": "_KxFdUl2iBvs"
      },
      "outputs": [],
      "source": [
        "minima = np.amin(values[:, -1])\n",
        "maxima = np.amax(values[:, -1])\n",
        "scaling_parameter = maxima-minima"
      ]
    },
    {
      "cell_type": "code",
      "execution_count": null,
      "metadata": {
        "id": "vTcCrd60Xbj0"
      },
      "outputs": [],
      "source": [
        "values[:, 7] = (values[:, 7] - minima) / scaling_parameter\n",
        "values[:, 0] = (values[:, 0]-np.amin(values[:, 0])) / \\\n",
        "    (np.amax(values[:, 0])-np.amin(values[:, 0]))\n",
        "values[:, 1] = (values[:, 1]-np.amin(values[:, 1])) / \\\n",
        "    (np.amax(values[:, 1])-np.amin(values[:, 1]))\n",
        "values[:, 2] = (values[:, 2]-np.amin(values[:, 2])) / \\\n",
        "    (np.amax(values[:, 2])-np.amin(values[:, 2]))\n",
        "values[:, 3] = (values[:, 3]-np.amin(values[:, 3])) / \\\n",
        "    (np.amax(values[:, 3])-np.amin(values[:, 3]))\n",
        "values[:, 4] = (values[:, 4]-np.amin(values[:, 4])) / \\\n",
        "    (np.amax(values[:, 4])-np.amin(values[:, 4]))\n",
        "values[:, 5] = (values[:, 5]-np.amin(values[:, 5])) / \\\n",
        "    (np.amax(values[:, 5])-np.amin(values[:, 5]))\n",
        "values[:, 6] = (values[:, 6]-np.amin(values[:, 6])) / \\\n",
        "    (np.amax(values[:, 6])-np.amin(values[:, 6]))"
      ]
    },
    {
      "cell_type": "code",
      "execution_count": null,
      "metadata": {
        "colab": {
          "base_uri": "https://localhost:8080/"
        },
        "id": "bKZjJj99Y1aE",
        "outputId": "2ad6b947-b3e0-40bc-bcf9-66f374499dd1"
      },
      "outputs": [
        {
          "output_type": "stream",
          "name": "stdout",
          "text": [
            "[[[0.7        0.81818182 1.         0.13043478 0.38983051 0.70565185\n",
            "   0.47030195 0.        ]\n",
            "  [0.7        0.81818182 1.         0.13043478 0.38983051 0.70565185\n",
            "   0.47030195 0.        ]\n",
            "  [0.7        0.81818182 1.         0.13043478 0.13559322 0.7051997\n",
            "   0.46901073 0.        ]\n",
            "  [0.7        0.81818182 1.         0.08695652 0.89830508 0.71077619\n",
            "   0.4624553  0.        ]\n",
            "  [0.7        0.81818182 1.         0.08695652 0.89830508 0.71077619\n",
            "   0.4624553  0.        ]\n",
            "  [0.7        0.81818182 1.         0.08695652 0.6440678  0.70881688\n",
            "   0.46523639 0.        ]\n",
            "  [0.7        0.81818182 1.         0.08695652 0.6440678  0.70881688\n",
            "   0.46523639 0.        ]\n",
            "  [0.7        0.81818182 1.         0.08695652 0.38983051 0.70761115\n",
            "   0.44328566 0.        ]]\n",
            "\n",
            " [[0.7        0.81818182 1.         0.13043478 0.38983051 0.70565185\n",
            "   0.47030195 0.        ]\n",
            "  [0.7        0.81818182 1.         0.13043478 0.13559322 0.7051997\n",
            "   0.46901073 0.        ]\n",
            "  [0.7        0.81818182 1.         0.08695652 0.89830508 0.71077619\n",
            "   0.4624553  0.        ]\n",
            "  [0.7        0.81818182 1.         0.08695652 0.89830508 0.71077619\n",
            "   0.4624553  0.        ]\n",
            "  [0.7        0.81818182 1.         0.08695652 0.6440678  0.70881688\n",
            "   0.46523639 0.        ]\n",
            "  [0.7        0.81818182 1.         0.08695652 0.6440678  0.70881688\n",
            "   0.46523639 0.        ]\n",
            "  [0.7        0.81818182 1.         0.08695652 0.38983051 0.70761115\n",
            "   0.44328566 0.        ]\n",
            "  [0.7        0.81818182 1.         0.08695652 0.13559322 0.71062547\n",
            "   0.42411601 0.        ]]\n",
            "\n",
            " [[0.7        0.81818182 1.         0.13043478 0.13559322 0.7051997\n",
            "   0.46901073 0.        ]\n",
            "  [0.7        0.81818182 1.         0.08695652 0.89830508 0.71077619\n",
            "   0.4624553  0.        ]\n",
            "  [0.7        0.81818182 1.         0.08695652 0.89830508 0.71077619\n",
            "   0.4624553  0.        ]\n",
            "  [0.7        0.81818182 1.         0.08695652 0.6440678  0.70881688\n",
            "   0.46523639 0.        ]\n",
            "  [0.7        0.81818182 1.         0.08695652 0.6440678  0.70881688\n",
            "   0.46523639 0.        ]\n",
            "  [0.7        0.81818182 1.         0.08695652 0.38983051 0.70761115\n",
            "   0.44328566 0.        ]\n",
            "  [0.7        0.81818182 1.         0.08695652 0.13559322 0.71062547\n",
            "   0.42411601 0.        ]\n",
            "  [0.7        0.81818182 1.         0.04347826 0.89830508 0.71454408\n",
            "   0.44010727 0.        ]]\n",
            "\n",
            " [[0.7        0.81818182 1.         0.08695652 0.89830508 0.71077619\n",
            "   0.4624553  0.        ]\n",
            "  [0.7        0.81818182 1.         0.08695652 0.89830508 0.71077619\n",
            "   0.4624553  0.        ]\n",
            "  [0.7        0.81818182 1.         0.08695652 0.6440678  0.70881688\n",
            "   0.46523639 0.        ]\n",
            "  [0.7        0.81818182 1.         0.08695652 0.6440678  0.70881688\n",
            "   0.46523639 0.        ]\n",
            "  [0.7        0.81818182 1.         0.08695652 0.38983051 0.70761115\n",
            "   0.44328566 0.        ]\n",
            "  [0.7        0.81818182 1.         0.08695652 0.13559322 0.71062547\n",
            "   0.42411601 0.        ]\n",
            "  [0.7        0.81818182 1.         0.04347826 0.89830508 0.71454408\n",
            "   0.44010727 0.        ]\n",
            "  [0.7        0.81818182 1.         0.04347826 0.6440678  0.72810852\n",
            "   0.39531188 0.        ]]\n",
            "\n",
            " [[0.7        0.81818182 1.         0.08695652 0.89830508 0.71077619\n",
            "   0.4624553  0.        ]\n",
            "  [0.7        0.81818182 1.         0.08695652 0.6440678  0.70881688\n",
            "   0.46523639 0.        ]\n",
            "  [0.7        0.81818182 1.         0.08695652 0.6440678  0.70881688\n",
            "   0.46523639 0.        ]\n",
            "  [0.7        0.81818182 1.         0.08695652 0.38983051 0.70761115\n",
            "   0.44328566 0.        ]\n",
            "  [0.7        0.81818182 1.         0.08695652 0.13559322 0.71062547\n",
            "   0.42411601 0.        ]\n",
            "  [0.7        0.81818182 1.         0.04347826 0.89830508 0.71454408\n",
            "   0.44010727 0.        ]\n",
            "  [0.7        0.81818182 1.         0.04347826 0.6440678  0.72810852\n",
            "   0.39531188 0.        ]\n",
            "  [0.7        0.81818182 1.         0.04347826 0.6440678  0.72810852\n",
            "   0.39531188 0.        ]]\n",
            "\n",
            " [[0.7        0.81818182 1.         0.08695652 0.6440678  0.70881688\n",
            "   0.46523639 0.        ]\n",
            "  [0.7        0.81818182 1.         0.08695652 0.6440678  0.70881688\n",
            "   0.46523639 0.        ]\n",
            "  [0.7        0.81818182 1.         0.08695652 0.38983051 0.70761115\n",
            "   0.44328566 0.        ]\n",
            "  [0.7        0.81818182 1.         0.08695652 0.13559322 0.71062547\n",
            "   0.42411601 0.        ]\n",
            "  [0.7        0.81818182 1.         0.04347826 0.89830508 0.71454408\n",
            "   0.44010727 0.        ]\n",
            "  [0.7        0.81818182 1.         0.04347826 0.6440678  0.72810852\n",
            "   0.39531188 0.        ]\n",
            "  [0.7        0.81818182 1.         0.04347826 0.6440678  0.72810852\n",
            "   0.39531188 0.        ]\n",
            "  [0.7        0.81818182 1.         0.04347826 0.38983051 0.73413715\n",
            "   0.3840882  0.        ]]]\n",
            "[0. 0. 0. 0. 0. 0.]\n"
          ]
        }
      ],
      "source": [
        "df = pd.DataFrame(values)\n",
        "window = 8\n",
        "x_train, y_train, x_test, y_test = load_data(df[::-1], window)"
      ]
    },
    {
      "cell_type": "code",
      "execution_count": null,
      "metadata": {
        "colab": {
          "base_uri": "https://localhost:8080/"
        },
        "id": "-VouC53NcI1S",
        "outputId": "49528255-0bd7-4795-c157-9fdbe6ca3459"
      },
      "outputs": [
        {
          "output_type": "stream",
          "name": "stdout",
          "text": [
            "[0.         0.         0.         ... 0.0973236  0.09975669 0.1297648 ]\n"
          ]
        }
      ],
      "source": [
        "print(y_test)"
      ]
    },
    {
      "cell_type": "code",
      "execution_count": null,
      "metadata": {
        "colab": {
          "base_uri": "https://localhost:8080/"
        },
        "id": "Spg71yhOcQH-",
        "outputId": "10127306-914f-4522-9aa5-3f5ff712def9"
      },
      "outputs": [
        {
          "output_type": "stream",
          "name": "stdout",
          "text": [
            "x_train (40008, 8, 8)\n",
            "y_train (40008,)\n",
            "x_test (10002, 8, 8)\n",
            "y_test (10002,)\n"
          ]
        }
      ],
      "source": [
        "print(\"x_train\", x_train.shape)\n",
        "print(\"y_train\", y_train.shape)\n",
        "print(\"x_test\", x_test.shape)\n",
        "print(\"y_test\", y_test.shape)"
      ]
    },
    {
      "cell_type": "code",
      "execution_count": null,
      "metadata": {
        "colab": {
          "base_uri": "https://localhost:8080/"
        },
        "id": "Uxou43JGcWBW",
        "outputId": "c89e88d9-b676-4d20-c1ba-16eb3e350f88"
      },
      "outputs": [
        {
          "output_type": "stream",
          "name": "stdout",
          "text": [
            "Compilation Time :  0.014275312423706055\n"
          ]
        }
      ],
      "source": [
        "model = build_model([8, window, 1])"
      ]
    },
    {
      "cell_type": "code",
      "execution_count": null,
      "metadata": {
        "colab": {
          "base_uri": "https://localhost:8080/"
        },
        "id": "LYTCq3gkcbV_",
        "outputId": "f549dabd-a158-450b-8b57-88735bb26142"
      },
      "outputs": [
        {
          "output_type": "stream",
          "name": "stdout",
          "text": [
            "(40008, 8, 8)\n"
          ]
        }
      ],
      "source": [
        "print(x_train.shape)"
      ]
    },
    {
      "cell_type": "code",
      "execution_count": null,
      "metadata": {
        "colab": {
          "base_uri": "https://localhost:8080/"
        },
        "id": "tlz6q2DHcgDA",
        "outputId": "981b4357-ca8d-4f3e-8905-267950ebc12e"
      },
      "outputs": [
        {
          "output_type": "stream",
          "name": "stdout",
          "text": [
            "Epoch 1/100\n",
            "32/32 - 5s - loss: 0.0315 - accuracy: 0.5162 - val_loss: 0.0183 - val_accuracy: 0.4845 - 5s/epoch - 149ms/step\n",
            "Epoch 2/100\n",
            "32/32 - 1s - loss: 0.0112 - accuracy: 0.5161 - val_loss: 0.0156 - val_accuracy: 0.4844 - 1s/epoch - 46ms/step\n",
            "Epoch 3/100\n",
            "32/32 - 1s - loss: 0.0101 - accuracy: 0.5161 - val_loss: 0.0119 - val_accuracy: 0.4840 - 1s/epoch - 45ms/step\n",
            "Epoch 4/100\n",
            "32/32 - 1s - loss: 0.0094 - accuracy: 0.5160 - val_loss: 0.0110 - val_accuracy: 0.4843 - 1s/epoch - 45ms/step\n",
            "Epoch 5/100\n",
            "32/32 - 1s - loss: 0.0086 - accuracy: 0.5161 - val_loss: 0.0116 - val_accuracy: 0.4844 - 1s/epoch - 44ms/step\n",
            "Epoch 6/100\n",
            "32/32 - 2s - loss: 0.0079 - accuracy: 0.5160 - val_loss: 0.0110 - val_accuracy: 0.4845 - 2s/epoch - 49ms/step\n",
            "Epoch 7/100\n",
            "32/32 - 2s - loss: 0.0072 - accuracy: 0.5160 - val_loss: 0.0091 - val_accuracy: 0.4844 - 2s/epoch - 57ms/step\n",
            "Epoch 8/100\n",
            "32/32 - 2s - loss: 0.0070 - accuracy: 0.5160 - val_loss: 0.0091 - val_accuracy: 0.4843 - 2s/epoch - 67ms/step\n",
            "Epoch 9/100\n",
            "32/32 - 2s - loss: 0.0068 - accuracy: 0.5160 - val_loss: 0.0087 - val_accuracy: 0.4844 - 2s/epoch - 63ms/step\n",
            "Epoch 10/100\n",
            "32/32 - 1s - loss: 0.0065 - accuracy: 0.5160 - val_loss: 0.0094 - val_accuracy: 0.4845 - 1s/epoch - 46ms/step\n",
            "Epoch 11/100\n",
            "32/32 - 1s - loss: 0.0064 - accuracy: 0.5160 - val_loss: 0.0092 - val_accuracy: 0.4844 - 1s/epoch - 44ms/step\n",
            "Epoch 12/100\n",
            "32/32 - 2s - loss: 0.0063 - accuracy: 0.5160 - val_loss: 0.0087 - val_accuracy: 0.4843 - 2s/epoch - 48ms/step\n",
            "Epoch 13/100\n",
            "32/32 - 1s - loss: 0.0062 - accuracy: 0.5159 - val_loss: 0.0090 - val_accuracy: 0.4844 - 1s/epoch - 46ms/step\n",
            "Epoch 14/100\n",
            "32/32 - 1s - loss: 0.0061 - accuracy: 0.5160 - val_loss: 0.0103 - val_accuracy: 0.4845 - 1s/epoch - 47ms/step\n",
            "Epoch 15/100\n",
            "32/32 - 1s - loss: 0.0061 - accuracy: 0.5160 - val_loss: 0.0087 - val_accuracy: 0.4844 - 1s/epoch - 44ms/step\n",
            "Epoch 16/100\n",
            "32/32 - 1s - loss: 0.0060 - accuracy: 0.5160 - val_loss: 0.0084 - val_accuracy: 0.4844 - 1s/epoch - 43ms/step\n",
            "Epoch 17/100\n",
            "32/32 - 1s - loss: 0.0059 - accuracy: 0.5160 - val_loss: 0.0092 - val_accuracy: 0.4845 - 1s/epoch - 44ms/step\n",
            "Epoch 18/100\n",
            "32/32 - 1s - loss: 0.0059 - accuracy: 0.5161 - val_loss: 0.0083 - val_accuracy: 0.4844 - 1s/epoch - 43ms/step\n",
            "Epoch 19/100\n",
            "32/32 - 1s - loss: 0.0058 - accuracy: 0.5161 - val_loss: 0.0084 - val_accuracy: 0.4844 - 1s/epoch - 45ms/step\n",
            "Epoch 20/100\n",
            "32/32 - 1s - loss: 0.0057 - accuracy: 0.5161 - val_loss: 0.0100 - val_accuracy: 0.4845 - 1s/epoch - 47ms/step\n",
            "Epoch 21/100\n",
            "32/32 - 1s - loss: 0.0057 - accuracy: 0.5160 - val_loss: 0.0094 - val_accuracy: 0.4845 - 1s/epoch - 46ms/step\n",
            "Epoch 22/100\n",
            "32/32 - 1s - loss: 0.0057 - accuracy: 0.5160 - val_loss: 0.0080 - val_accuracy: 0.4841 - 1s/epoch - 46ms/step\n",
            "Epoch 23/100\n",
            "32/32 - 1s - loss: 0.0057 - accuracy: 0.5161 - val_loss: 0.0087 - val_accuracy: 0.4845 - 1s/epoch - 46ms/step\n",
            "Epoch 24/100\n",
            "32/32 - 2s - loss: 0.0057 - accuracy: 0.5160 - val_loss: 0.0085 - val_accuracy: 0.4845 - 2s/epoch - 47ms/step\n",
            "Epoch 25/100\n",
            "32/32 - 2s - loss: 0.0056 - accuracy: 0.5160 - val_loss: 0.0080 - val_accuracy: 0.4841 - 2s/epoch - 47ms/step\n",
            "Epoch 26/100\n",
            "32/32 - 1s - loss: 0.0056 - accuracy: 0.5160 - val_loss: 0.0082 - val_accuracy: 0.4844 - 1s/epoch - 47ms/step\n",
            "Epoch 27/100\n",
            "32/32 - 1s - loss: 0.0056 - accuracy: 0.5160 - val_loss: 0.0090 - val_accuracy: 0.4845 - 1s/epoch - 46ms/step\n",
            "Epoch 28/100\n",
            "32/32 - 1s - loss: 0.0056 - accuracy: 0.5160 - val_loss: 0.0096 - val_accuracy: 0.4845 - 1s/epoch - 45ms/step\n",
            "Epoch 29/100\n",
            "32/32 - 1s - loss: 0.0056 - accuracy: 0.5159 - val_loss: 0.0081 - val_accuracy: 0.4841 - 1s/epoch - 43ms/step\n",
            "Epoch 30/100\n",
            "32/32 - 1s - loss: 0.0056 - accuracy: 0.5159 - val_loss: 0.0095 - val_accuracy: 0.4845 - 1s/epoch - 47ms/step\n",
            "Epoch 31/100\n",
            "32/32 - 1s - loss: 0.0056 - accuracy: 0.5160 - val_loss: 0.0083 - val_accuracy: 0.4844 - 1s/epoch - 47ms/step\n",
            "Epoch 32/100\n",
            "32/32 - 1s - loss: 0.0055 - accuracy: 0.5159 - val_loss: 0.0094 - val_accuracy: 0.4845 - 1s/epoch - 46ms/step\n",
            "Epoch 33/100\n",
            "32/32 - 1s - loss: 0.0056 - accuracy: 0.5160 - val_loss: 0.0093 - val_accuracy: 0.4845 - 1s/epoch - 45ms/step\n",
            "Epoch 34/100\n",
            "32/32 - 1s - loss: 0.0056 - accuracy: 0.5160 - val_loss: 0.0087 - val_accuracy: 0.4845 - 1s/epoch - 46ms/step\n",
            "Epoch 35/100\n",
            "32/32 - 1s - loss: 0.0055 - accuracy: 0.5159 - val_loss: 0.0089 - val_accuracy: 0.4845 - 1s/epoch - 46ms/step\n",
            "Epoch 36/100\n",
            "32/32 - 1s - loss: 0.0055 - accuracy: 0.5160 - val_loss: 0.0081 - val_accuracy: 0.4844 - 1s/epoch - 45ms/step\n",
            "Epoch 37/100\n",
            "32/32 - 1s - loss: 0.0055 - accuracy: 0.5160 - val_loss: 0.0080 - val_accuracy: 0.4841 - 1s/epoch - 46ms/step\n",
            "Epoch 38/100\n",
            "32/32 - 1s - loss: 0.0055 - accuracy: 0.5159 - val_loss: 0.0082 - val_accuracy: 0.4844 - 1s/epoch - 45ms/step\n",
            "Epoch 39/100\n",
            "32/32 - 1s - loss: 0.0054 - accuracy: 0.5159 - val_loss: 0.0100 - val_accuracy: 0.4845 - 1s/epoch - 46ms/step\n",
            "Epoch 40/100\n",
            "32/32 - 2s - loss: 0.0055 - accuracy: 0.5159 - val_loss: 0.0081 - val_accuracy: 0.4844 - 2s/epoch - 47ms/step\n",
            "Epoch 41/100\n",
            "32/32 - 2s - loss: 0.0055 - accuracy: 0.5159 - val_loss: 0.0081 - val_accuracy: 0.4844 - 2s/epoch - 47ms/step\n",
            "Epoch 42/100\n",
            "32/32 - 2s - loss: 0.0054 - accuracy: 0.5159 - val_loss: 0.0088 - val_accuracy: 0.4845 - 2s/epoch - 47ms/step\n",
            "Epoch 43/100\n",
            "32/32 - 2s - loss: 0.0055 - accuracy: 0.5160 - val_loss: 0.0081 - val_accuracy: 0.4844 - 2s/epoch - 48ms/step\n",
            "Epoch 44/100\n",
            "32/32 - 2s - loss: 0.0055 - accuracy: 0.5160 - val_loss: 0.0093 - val_accuracy: 0.4845 - 2s/epoch - 47ms/step\n",
            "Epoch 45/100\n",
            "32/32 - 2s - loss: 0.0055 - accuracy: 0.5159 - val_loss: 0.0083 - val_accuracy: 0.4845 - 2s/epoch - 48ms/step\n",
            "Epoch 46/100\n",
            "32/32 - 2s - loss: 0.0054 - accuracy: 0.5159 - val_loss: 0.0081 - val_accuracy: 0.4843 - 2s/epoch - 48ms/step\n",
            "Epoch 47/100\n",
            "32/32 - 1s - loss: 0.0055 - accuracy: 0.5159 - val_loss: 0.0084 - val_accuracy: 0.4844 - 1s/epoch - 46ms/step\n",
            "Epoch 48/100\n",
            "32/32 - 1s - loss: 0.0054 - accuracy: 0.5160 - val_loss: 0.0084 - val_accuracy: 0.4844 - 1s/epoch - 47ms/step\n",
            "Epoch 49/100\n",
            "32/32 - 1s - loss: 0.0054 - accuracy: 0.5159 - val_loss: 0.0080 - val_accuracy: 0.4844 - 1s/epoch - 46ms/step\n",
            "Epoch 50/100\n",
            "32/32 - 1s - loss: 0.0054 - accuracy: 0.5159 - val_loss: 0.0079 - val_accuracy: 0.4841 - 1s/epoch - 46ms/step\n",
            "Epoch 51/100\n",
            "32/32 - 1s - loss: 0.0054 - accuracy: 0.5159 - val_loss: 0.0080 - val_accuracy: 0.4844 - 1s/epoch - 46ms/step\n",
            "Epoch 52/100\n",
            "32/32 - 2s - loss: 0.0054 - accuracy: 0.5160 - val_loss: 0.0079 - val_accuracy: 0.4843 - 2s/epoch - 47ms/step\n",
            "Epoch 53/100\n",
            "32/32 - 1s - loss: 0.0054 - accuracy: 0.5160 - val_loss: 0.0089 - val_accuracy: 0.4845 - 1s/epoch - 46ms/step\n",
            "Epoch 54/100\n",
            "32/32 - 1s - loss: 0.0054 - accuracy: 0.5159 - val_loss: 0.0088 - val_accuracy: 0.4845 - 1s/epoch - 46ms/step\n",
            "Epoch 55/100\n",
            "32/32 - 1s - loss: 0.0054 - accuracy: 0.5160 - val_loss: 0.0084 - val_accuracy: 0.4844 - 1s/epoch - 45ms/step\n",
            "Epoch 56/100\n",
            "32/32 - 1s - loss: 0.0054 - accuracy: 0.5160 - val_loss: 0.0079 - val_accuracy: 0.4844 - 1s/epoch - 45ms/step\n",
            "Epoch 57/100\n",
            "32/32 - 1s - loss: 0.0054 - accuracy: 0.5160 - val_loss: 0.0080 - val_accuracy: 0.4841 - 1s/epoch - 45ms/step\n",
            "Epoch 58/100\n",
            "32/32 - 1s - loss: 0.0054 - accuracy: 0.5159 - val_loss: 0.0092 - val_accuracy: 0.4845 - 1s/epoch - 45ms/step\n",
            "Epoch 59/100\n",
            "32/32 - 1s - loss: 0.0053 - accuracy: 0.5160 - val_loss: 0.0084 - val_accuracy: 0.4844 - 1s/epoch - 46ms/step\n",
            "Epoch 60/100\n",
            "32/32 - 1s - loss: 0.0054 - accuracy: 0.5159 - val_loss: 0.0081 - val_accuracy: 0.4844 - 1s/epoch - 44ms/step\n",
            "Epoch 61/100\n",
            "32/32 - 1s - loss: 0.0054 - accuracy: 0.5161 - val_loss: 0.0082 - val_accuracy: 0.4844 - 1s/epoch - 45ms/step\n",
            "Epoch 62/100\n",
            "32/32 - 1s - loss: 0.0054 - accuracy: 0.5160 - val_loss: 0.0084 - val_accuracy: 0.4844 - 1s/epoch - 45ms/step\n",
            "Epoch 63/100\n",
            "32/32 - 1s - loss: 0.0053 - accuracy: 0.5160 - val_loss: 0.0091 - val_accuracy: 0.4845 - 1s/epoch - 44ms/step\n",
            "Epoch 64/100\n",
            "32/32 - 1s - loss: 0.0054 - accuracy: 0.5160 - val_loss: 0.0083 - val_accuracy: 0.4845 - 1s/epoch - 46ms/step\n",
            "Epoch 65/100\n",
            "32/32 - 1s - loss: 0.0053 - accuracy: 0.5160 - val_loss: 0.0088 - val_accuracy: 0.4845 - 1s/epoch - 45ms/step\n",
            "Epoch 66/100\n",
            "32/32 - 1s - loss: 0.0054 - accuracy: 0.5160 - val_loss: 0.0080 - val_accuracy: 0.4840 - 1s/epoch - 44ms/step\n",
            "Epoch 67/100\n",
            "32/32 - 1s - loss: 0.0053 - accuracy: 0.5160 - val_loss: 0.0082 - val_accuracy: 0.4844 - 1s/epoch - 43ms/step\n",
            "Epoch 68/100\n",
            "32/32 - 1s - loss: 0.0053 - accuracy: 0.5160 - val_loss: 0.0079 - val_accuracy: 0.4844 - 1s/epoch - 46ms/step\n",
            "Epoch 69/100\n",
            "32/32 - 1s - loss: 0.0053 - accuracy: 0.5159 - val_loss: 0.0078 - val_accuracy: 0.4844 - 1s/epoch - 45ms/step\n",
            "Epoch 70/100\n",
            "32/32 - 1s - loss: 0.0053 - accuracy: 0.5159 - val_loss: 0.0093 - val_accuracy: 0.4845 - 1s/epoch - 45ms/step\n",
            "Epoch 71/100\n",
            "32/32 - 1s - loss: 0.0053 - accuracy: 0.5160 - val_loss: 0.0090 - val_accuracy: 0.4845 - 1s/epoch - 46ms/step\n",
            "Epoch 72/100\n",
            "32/32 - 1s - loss: 0.0053 - accuracy: 0.5159 - val_loss: 0.0082 - val_accuracy: 0.4845 - 1s/epoch - 44ms/step\n",
            "Epoch 73/100\n",
            "32/32 - 1s - loss: 0.0053 - accuracy: 0.5159 - val_loss: 0.0082 - val_accuracy: 0.4845 - 1s/epoch - 45ms/step\n",
            "Epoch 74/100\n",
            "32/32 - 1s - loss: 0.0053 - accuracy: 0.5160 - val_loss: 0.0083 - val_accuracy: 0.4845 - 1s/epoch - 45ms/step\n",
            "Epoch 75/100\n",
            "32/32 - 1s - loss: 0.0053 - accuracy: 0.5160 - val_loss: 0.0085 - val_accuracy: 0.4844 - 1s/epoch - 46ms/step\n",
            "Epoch 76/100\n",
            "32/32 - 1s - loss: 0.0052 - accuracy: 0.5159 - val_loss: 0.0080 - val_accuracy: 0.4844 - 1s/epoch - 44ms/step\n",
            "Epoch 77/100\n",
            "32/32 - 1s - loss: 0.0053 - accuracy: 0.5159 - val_loss: 0.0081 - val_accuracy: 0.4844 - 1s/epoch - 44ms/step\n",
            "Epoch 78/100\n",
            "32/32 - 1s - loss: 0.0053 - accuracy: 0.5160 - val_loss: 0.0079 - val_accuracy: 0.4844 - 1s/epoch - 43ms/step\n",
            "Epoch 79/100\n",
            "32/32 - 1s - loss: 0.0053 - accuracy: 0.5160 - val_loss: 0.0080 - val_accuracy: 0.4845 - 1s/epoch - 45ms/step\n",
            "Epoch 80/100\n",
            "32/32 - 1s - loss: 0.0053 - accuracy: 0.5160 - val_loss: 0.0078 - val_accuracy: 0.4843 - 1s/epoch - 44ms/step\n",
            "Epoch 81/100\n",
            "32/32 - 1s - loss: 0.0053 - accuracy: 0.5160 - val_loss: 0.0089 - val_accuracy: 0.4845 - 1s/epoch - 44ms/step\n",
            "Epoch 82/100\n",
            "32/32 - 1s - loss: 0.0053 - accuracy: 0.5160 - val_loss: 0.0081 - val_accuracy: 0.4845 - 1s/epoch - 45ms/step\n",
            "Epoch 83/100\n",
            "32/32 - 1s - loss: 0.0053 - accuracy: 0.5160 - val_loss: 0.0078 - val_accuracy: 0.4843 - 1s/epoch - 44ms/step\n",
            "Epoch 84/100\n",
            "32/32 - 1s - loss: 0.0053 - accuracy: 0.5160 - val_loss: 0.0086 - val_accuracy: 0.4845 - 1s/epoch - 44ms/step\n",
            "Epoch 85/100\n",
            "32/32 - 1s - loss: 0.0052 - accuracy: 0.5160 - val_loss: 0.0080 - val_accuracy: 0.4844 - 1s/epoch - 45ms/step\n",
            "Epoch 86/100\n",
            "32/32 - 1s - loss: 0.0052 - accuracy: 0.5160 - val_loss: 0.0079 - val_accuracy: 0.4844 - 1s/epoch - 45ms/step\n",
            "Epoch 87/100\n",
            "32/32 - 1s - loss: 0.0052 - accuracy: 0.5160 - val_loss: 0.0080 - val_accuracy: 0.4844 - 1s/epoch - 45ms/step\n",
            "Epoch 88/100\n",
            "32/32 - 1s - loss: 0.0052 - accuracy: 0.5160 - val_loss: 0.0079 - val_accuracy: 0.4843 - 1s/epoch - 43ms/step\n",
            "Epoch 89/100\n",
            "32/32 - 1s - loss: 0.0052 - accuracy: 0.5160 - val_loss: 0.0080 - val_accuracy: 0.4845 - 1s/epoch - 46ms/step\n",
            "Epoch 90/100\n",
            "32/32 - 1s - loss: 0.0052 - accuracy: 0.5159 - val_loss: 0.0081 - val_accuracy: 0.4845 - 1s/epoch - 45ms/step\n",
            "Epoch 91/100\n",
            "32/32 - 1s - loss: 0.0052 - accuracy: 0.5160 - val_loss: 0.0079 - val_accuracy: 0.4844 - 1s/epoch - 45ms/step\n",
            "Epoch 92/100\n",
            "32/32 - 1s - loss: 0.0052 - accuracy: 0.5159 - val_loss: 0.0078 - val_accuracy: 0.4841 - 1s/epoch - 46ms/step\n",
            "Epoch 93/100\n",
            "32/32 - 1s - loss: 0.0052 - accuracy: 0.5159 - val_loss: 0.0079 - val_accuracy: 0.4845 - 1s/epoch - 45ms/step\n",
            "Epoch 94/100\n",
            "32/32 - 1s - loss: 0.0052 - accuracy: 0.5159 - val_loss: 0.0082 - val_accuracy: 0.4845 - 1s/epoch - 46ms/step\n",
            "Epoch 95/100\n",
            "32/32 - 1s - loss: 0.0052 - accuracy: 0.5160 - val_loss: 0.0079 - val_accuracy: 0.4845 - 1s/epoch - 45ms/step\n",
            "Epoch 96/100\n",
            "32/32 - 2s - loss: 0.0052 - accuracy: 0.5160 - val_loss: 0.0078 - val_accuracy: 0.4843 - 2s/epoch - 47ms/step\n",
            "Epoch 97/100\n",
            "32/32 - 1s - loss: 0.0052 - accuracy: 0.5160 - val_loss: 0.0082 - val_accuracy: 0.4845 - 1s/epoch - 44ms/step\n",
            "Epoch 98/100\n",
            "32/32 - 1s - loss: 0.0052 - accuracy: 0.5160 - val_loss: 0.0084 - val_accuracy: 0.4845 - 1s/epoch - 44ms/step\n",
            "Epoch 99/100\n",
            "32/32 - 1s - loss: 0.0052 - accuracy: 0.5160 - val_loss: 0.0079 - val_accuracy: 0.4844 - 1s/epoch - 45ms/step\n",
            "Epoch 100/100\n",
            "32/32 - 1s - loss: 0.0052 - accuracy: 0.5159 - val_loss: 0.0080 - val_accuracy: 0.4845 - 1s/epoch - 43ms/step\n"
          ]
        },
        {
          "output_type": "execute_result",
          "data": {
            "text/plain": [
              "<keras.callbacks.History at 0x7f000b2a8f50>"
            ]
          },
          "metadata": {},
          "execution_count": 72
        }
      ],
      "source": [
        "# training part, can also change batch size and epoch to get more better result\n",
        "model.fit(\n",
        "    x_train,\n",
        "    y_train,\n",
        "    batch_size=1024,\n",
        "    epochs=100,\n",
        "    validation_split=0.2,\n",
        "    verbose=2\n",
        ")"
      ]
    },
    {
      "cell_type": "code",
      "execution_count": null,
      "metadata": {
        "id": "NSUPjSAFcmkv"
      },
      "outputs": [],
      "source": [
        "# function to calculate error\n",
        "def mean_absolute_percentage_error(y_true, y_pred):\n",
        "    y_true, y_pred = np.array(y_true), np.array(y_pred)\n",
        "    return np.mean(np.abs((y_true - y_pred)/y_true))*100"
      ]
    },
    {
      "cell_type": "code",
      "execution_count": null,
      "metadata": {
        "id": "7YGVEO5ucuM8",
        "colab": {
          "base_uri": "https://localhost:8080/"
        },
        "outputId": "6460957f-c58f-4a05-8dcd-b68c7b34f2aa"
      },
      "outputs": [
        {
          "output_type": "stream",
          "name": "stdout",
          "text": [
            "313/313 [==============================] - 1s 3ms/step\n",
            "[  0.   0.   0. ... 120. 123. 160.]\n",
            "[[  0.     ]\n",
            " [  0.     ]\n",
            " [  0.     ]\n",
            " ...\n",
            " [455.96146]\n",
            " [371.243  ]\n",
            " [314.25757]]\n"
          ]
        }
      ],
      "source": [
        "# testing part\n",
        "predicted = model.predict(x_test)\n",
        "predicted = (predicted*scaling_parameter)+minima\n",
        "actual = y_test\n",
        "actual = (actual*scaling_parameter)+minima\n",
        "print(actual)\n",
        "print(predicted)"
      ]
    },
    {
      "cell_type": "code",
      "execution_count": null,
      "metadata": {
        "id": "OlBnZvEYdQ37",
        "colab": {
          "base_uri": "https://localhost:8080/"
        },
        "outputId": "386dc3d1-a86f-4654-b758-49b198a304c2"
      },
      "outputs": [
        {
          "output_type": "stream",
          "name": "stderr",
          "text": [
            "/usr/local/lib/python3.7/dist-packages/ipykernel_launcher.py:4: RuntimeWarning: divide by zero encountered in true_divide\n",
            "  after removing the cwd from sys.path.\n",
            "/usr/local/lib/python3.7/dist-packages/ipykernel_launcher.py:4: RuntimeWarning: invalid value encountered in true_divide\n",
            "  after removing the cwd from sys.path.\n"
          ]
        },
        {
          "output_type": "stream",
          "name": "stdout",
          "text": [
            "Test MAPE: nan\n"
          ]
        }
      ],
      "source": [
        "mape = sqrt(mean_absolute_percentage_error(predicted, actual))\n",
        "print(\"Test MAPE: %0.3f\" % mape)"
      ]
    },
    {
      "cell_type": "code",
      "execution_count": null,
      "metadata": {
        "id": "tilCrmZDdWmm",
        "colab": {
          "base_uri": "https://localhost:8080/",
          "height": 281
        },
        "outputId": "ebcc7c74-bef6-42f3-bc37-638da6540707"
      },
      "outputs": [
        {
          "output_type": "display_data",
          "data": {
            "text/plain": [
              "<Figure size 432x288 with 1 Axes>"
            ],
            "image/png": "[encoded data removed]"
          },
          "metadata": {
            "needs_background": "light"
          }
        }
      ],
      "source": [
        "# result presenting part\n",
        "plt.plot(actual[:24], label='Actual', color=\"blue\")\n",
        "plt.plot(predicted[:24], label='Predicted', color=\"red\")\n",
        "plt.ylabel(\"Solar Irradiance(kWh/m2)\")\n",
        "plt.title(\"Actual VS Predicted results\")\n",
        "plt.legend()\n",
        "plt.show()"
      ]
    }
  ],
  "metadata": {
    "colab": {
      "provenance": []
    },
    "kernelspec": {
      "display_name": "Python 3",
      "name": "python3"
    },
    "language_info": {
      "name": "python"
    }
  },
  "nbformat": 4,
  "nbformat_minor": 0
}